{
 "cells": [
  {
   "cell_type": "code",
   "execution_count": 1,
   "id": "3fd75793",
   "metadata": {},
   "outputs": [],
   "source": [
    "import mmcv\n",
    "from mmcv import Config\n",
    "from mmdet.datasets import (build_dataloader, build_dataset,\n",
    "                            replace_ImageToTensor)\n",
    "from mmdet.models import build_detector\n",
    "from mmdet.apis import single_gpu_test\n",
    "from mmcv.runner import load_checkpoint\n",
    "import os\n",
    "from mmcv.parallel import MMDataParallel\n",
    "import pandas as pd\n",
    "from pandas import DataFrame\n",
    "from pycocotools.coco import COCO\n",
    "import numpy as np"
   ]
  },
  {
   "cell_type": "code",
   "execution_count": 2,
   "id": "edda58ea",
   "metadata": {},
   "outputs": [],
   "source": [
    "classes = (\"General trash\", \"Paper\", \"Paper pack\", \"Metal\", \"Glass\", \n",
    "           \"Plastic\", \"Styrofoam\", \"Plastic bag\", \"Battery\", \"Clothing\")\n",
    "\n",
    "# config file 들고오기\n",
    "cfg = Config.fromfile('/opt/ml/Pstage/level2-object-detection-level2-cv-12/baseline/mmdetection/work_dirs/cascade_rcnn_convnext2/0/cascade_rcnn_convnext2.py')\n",
    "\n",
    "root='/opt/ml/detection/dataset/'\n",
    "\n",
    "epoch = 'latest'\n",
    "\n",
    "# dataset config 수정\n",
    "cfg.data.test.classes = classes\n",
    "cfg.data.test.img_prefix = root\n",
    "cfg.data.test.ann_file = root + 'test.json'\n",
    "cfg.data.test.pipeline[1]['img_scale'] = (512,512) # Resize\n",
    "cfg.data.test.test_mode = True\n",
    "\n",
    "cfg.data.samples_per_gpu = 4\n",
    "\n",
    "cfg.seed=2021\n",
    "cfg.gpu_ids = [1]\n",
    "cfg.work_dir = '/opt/ml/Pstage/level2-object-detection-level2-cv-12/baseline/mmdetection/work_dirs/cascade_rcnn_convnext2/0'\n",
    "\n",
    "#cfg.model.roi_head.bbox_head.num_classes = 10\n",
    "\n",
    "cfg.optimizer_config.grad_clip = dict(max_norm=35, norm_type=2)\n",
    "cfg.model.train_cfg = None"
   ]
  },
  {
   "cell_type": "code",
   "execution_count": 3,
   "id": "b086a8cf",
   "metadata": {},
   "outputs": [
    {
     "name": "stdout",
     "output_type": "stream",
     "text": [
      "loading annotations into memory...\n",
      "Done (t=0.01s)\n",
      "creating index...\n",
      "index created!\n"
     ]
    }
   ],
   "source": [
    "# build dataset & dataloader\n",
    "dataset = build_dataset(cfg.data.test)\n",
    "data_loader = build_dataloader(\n",
    "        dataset,\n",
    "        samples_per_gpu=1,\n",
    "        workers_per_gpu=cfg.data.workers_per_gpu,\n",
    "        dist=False,\n",
    "        shuffle=False)"
   ]
  },
  {
   "cell_type": "code",
   "execution_count": 4,
   "id": "83b3eae6",
   "metadata": {},
   "outputs": [
    {
     "name": "stdout",
     "output_type": "stream",
     "text": [
      "**************************생성생성생성********************************\n",
      "load checkpoint from local path: /opt/ml/Pstage/level2-object-detection-level2-cv-12/baseline/mmdetection/work_dirs/cascade_rcnn_convnext2/0/best_bbox_mAP_50_epoch_11.pth\n"
     ]
    }
   ],
   "source": [
    "# checkpoint path\n",
    "checkpoint_path = '/opt/ml/Pstage/level2-object-detection-level2-cv-12/baseline/mmdetection/work_dirs/cascade_rcnn_convnext2/0/best_bbox_mAP_50_epoch_11.pth'\n",
    "\n",
    "model = build_detector(cfg.model, test_cfg=cfg.get('test_cfg')) # build detector\n",
    "checkpoint = load_checkpoint(model, checkpoint_path, map_location='cpu') # ckpt load\n",
    "\n",
    "model.CLASSES = dataset.CLASSES\n",
    "model = MMDataParallel(model.cuda(), device_ids=[0])"
   ]
  },
  {
   "cell_type": "code",
   "execution_count": 5,
   "id": "c9f5c2bb",
   "metadata": {},
   "outputs": [
    {
     "name": "stdout",
     "output_type": "stream",
     "text": [
      "[>>>>>>>>>>>>>>>>>>>>>>>>>>] 4871/4871, 14.7 task/s, elapsed: 332s, ETA:     0s"
     ]
    }
   ],
   "source": [
    "output = single_gpu_test(model, data_loader, show_score_thr=0.05) # output 계산"
   ]
  },
  {
   "cell_type": "code",
   "execution_count": 6,
   "id": "5672a0ff",
   "metadata": {},
   "outputs": [
    {
     "name": "stdout",
     "output_type": "stream",
     "text": [
      "loading annotations into memory...\n",
      "Done (t=0.01s)\n",
      "creating index...\n",
      "index created!\n"
     ]
    },
    {
     "data": {
      "text/html": [
       "<div>\n",
       "<style scoped>\n",
       "    .dataframe tbody tr th:only-of-type {\n",
       "        vertical-align: middle;\n",
       "    }\n",
       "\n",
       "    .dataframe tbody tr th {\n",
       "        vertical-align: top;\n",
       "    }\n",
       "\n",
       "    .dataframe thead th {\n",
       "        text-align: right;\n",
       "    }\n",
       "</style>\n",
       "<table border=\"1\" class=\"dataframe\">\n",
       "  <thead>\n",
       "    <tr style=\"text-align: right;\">\n",
       "      <th></th>\n",
       "      <th>PredictionString</th>\n",
       "      <th>image_id</th>\n",
       "    </tr>\n",
       "  </thead>\n",
       "  <tbody>\n",
       "    <tr>\n",
       "      <th>0</th>\n",
       "      <td>0 0.21860133 465.5523 585.9109 578.0767 680.99...</td>\n",
       "      <td>test/0000.jpg</td>\n",
       "    </tr>\n",
       "    <tr>\n",
       "      <th>1</th>\n",
       "      <td>0 0.03409556 349.7883 241.96297 756.9347 695.3...</td>\n",
       "      <td>test/0001.jpg</td>\n",
       "    </tr>\n",
       "    <tr>\n",
       "      <th>2</th>\n",
       "      <td>0 0.06924729 776.36414 401.17358 1024.0 1024.0...</td>\n",
       "      <td>test/0002.jpg</td>\n",
       "    </tr>\n",
       "    <tr>\n",
       "      <th>3</th>\n",
       "      <td>0 0.007647405 0.0 2.0380554 1024.0 614.15515 0...</td>\n",
       "      <td>test/0003.jpg</td>\n",
       "    </tr>\n",
       "    <tr>\n",
       "      <th>4</th>\n",
       "      <td>0 0.6706466 421.94656 403.60217 662.9496 571.1...</td>\n",
       "      <td>test/0004.jpg</td>\n",
       "    </tr>\n",
       "  </tbody>\n",
       "</table>\n",
       "</div>"
      ],
      "text/plain": [
       "                                    PredictionString       image_id\n",
       "0  0 0.21860133 465.5523 585.9109 578.0767 680.99...  test/0000.jpg\n",
       "1  0 0.03409556 349.7883 241.96297 756.9347 695.3...  test/0001.jpg\n",
       "2  0 0.06924729 776.36414 401.17358 1024.0 1024.0...  test/0002.jpg\n",
       "3  0 0.007647405 0.0 2.0380554 1024.0 614.15515 0...  test/0003.jpg\n",
       "4  0 0.6706466 421.94656 403.60217 662.9496 571.1...  test/0004.jpg"
      ]
     },
     "execution_count": 6,
     "metadata": {},
     "output_type": "execute_result"
    }
   ],
   "source": [
    "# submission 양식에 맞게 output 후처리\n",
    "prediction_strings = []\n",
    "file_names = []\n",
    "coco = COCO(cfg.data.test.ann_file)\n",
    "img_ids = coco.getImgIds()\n",
    "\n",
    "class_num = 10\n",
    "for i, out in enumerate(output):\n",
    "    prediction_string = ''\n",
    "    image_info = coco.loadImgs(coco.getImgIds(imgIds=i))[0]\n",
    "    for j in range(class_num):\n",
    "        for o in out[j]:\n",
    "            prediction_string += str(j) + ' ' + str(o[4]) + ' ' + str(o[0]) + ' ' + str(o[1]) + ' ' + str(\n",
    "                o[2]) + ' ' + str(o[3]) + ' '\n",
    "        \n",
    "    prediction_strings.append(prediction_string)\n",
    "    file_names.append(image_info['file_name'])\n",
    "\n",
    "\n",
    "submission = pd.DataFrame()\n",
    "submission['PredictionString'] = prediction_strings\n",
    "submission['image_id'] = file_names\n",
    "submission.to_csv(os.path.join(cfg.work_dir, f'submission_{epoch}.csv'), index=None)\n",
    "submission.head()"
   ]
  },
  {
   "cell_type": "code",
   "execution_count": 7,
   "id": "23f88f16",
   "metadata": {},
   "outputs": [
    {
     "data": {
      "text/plain": [
       "'0 0.7721302 331.13107 338.77728 660.6915 538.2597 0 0.0025083225 342.74158 431.9501 569.29926 541.5226 0 0.00060478266 275.13745 334.2583 593.1977 384.40033 0 0.0005648735 492.22577 386.94547 574.0705 467.058 0 0.00050071575 347.0727 349.65973 582.36914 477.71124 0 0.0004157596 312.83197 341.2868 473.56586 382.1994 0 0.0004054794 454.92444 393.1753 583.20044 432.96484 0 0.00021497045 484.09473 379.3868 585.08496 417.37234 0 0.00018503073 483.19342 372.52948 602.3172 486.41748 0 0.00017005585 319.17776 329.52277 635.8784 423.25262 0 0.00015141015 444.19217 403.15167 565.6528 445.64514 0 0.00013295011 338.80258 342.18597 470.67227 475.589 0 8.683583e-05 216.8084 304.05002 547.859 519.56586 0 8.215403e-05 345.33395 287.5272 875.1793 449.5582 0 7.9905796e-05 217.24437 8.670563 669.43317 555.48425 0 7.708343e-05 354.78357 383.4372 511.2329 447.16522 0 7.075919e-05 424.02222 388.61273 580.07587 417.826 0 5.7611083e-05 174.43195 301.4775 671.3286 397.85446 0 5.3308922e-05 353.8379 266.73907 660.3394 474.8211 0 5.116566e-05 351.9593 421.8347 569.9752 457.40048 0 4.5650682e-05 459.5669 362.875 665.629 500.31055 0 4.5310524e-05 478.41284 332.5377 593.0773 373.79465 0 4.2262513e-05 325.9775 348.47488 422.72507 433.66147 0 4.2208456e-05 374.9292 407.1236 525.83746 441.42615 0 3.288342e-05 421.67685 376.8444 570.57196 409.66702 0 3.2087628e-05 487.57373 358.30753 568.18994 432.26584 0 2.8736622e-05 274.87103 225.27982 746.18353 396.33224 0 2.4007022e-05 305.9121 479.74976 604.5222 560.9425 0 2.2945072e-05 292.15576 346.08682 508.24176 423.25418 0 2.2147477e-05 373.62073 396.54666 523.7464 429.4636 0 2.1051963e-05 332.7083 358.21405 452.76685 407.1408 0 1.733808e-05 279.0606 353.50513 483.22034 634.7056 0 1.6792479e-05 468.69928 162.71733 664.55804 466.8825 0 1.35035625e-05 400.59357 515.49695 587.74585 540.7689 0 1.219443e-05 500.21732 367.54205 612.8969 425.32507 0 1.1264986e-05 455.1985 316.82172 684.44836 371.94373 0 1.0874899e-05 326.01965 440.98572 770.13965 584.73376 0 1.0197955e-05 360.85522 365.58722 535.91907 424.39478 0 9.958833e-06 416.78934 322.62848 647.92535 399.09125 0 7.729014e-06 282.81366 321.53638 916.7751 556.3328 0 6.7686087e-06 267.7402 165.71417 1013.11633 528.888 0 5.814271e-06 89.561584 336.18146 661.1358 671.90454 0 5.6311083e-06 196.23706 439.04352 612.4243 596.6329 0 5.3428175e-06 352.80847 365.2046 429.71265 462.7848 0 5.027208e-06 502.27957 340.2939 656.82544 442.51566 0 4.9511423e-06 286.66425 346.5054 429.57642 485.5668 0 4.654169e-06 486.5482 277.06793 700.4534 361.22095 0 3.760867e-06 535.1917 241.41438 696.1951 513.31067 0 3.6309648e-06 289.15625 349.3756 456.80646 395.81104 0 3.4626273e-06 227.85127 497.20145 738.4344 625.03326 0 2.0612586e-06 487.87726 326.44492 699.7867 409.2194 0 1.5045114e-06 22.939667 48.569305 971.6625 582.67395 0 1.4451633e-06 338.50708 411.15118 512.0743 469.7583 0 1.4334855e-06 335.206 315.31824 745.44415 870.41626 1 0.48119253 332.57764 340.07034 660.6512 537.75507 1 1.42561485e-05 326.01965 440.98572 770.13965 584.73376 1 6.7154165e-06 342.74158 431.9501 569.29926 541.5226 1 3.6502338e-06 344.24448 336.1246 500.79263 476.0411 1 1.7060506e-06 256.10178 192.9457 662.7715 542.494 1 1.4347451e-06 282.81366 321.53638 916.7751 556.3328 2 0.036938906 329.9481 337.92734 660.62756 538.4689 2 2.9349255e-06 335.9585 449.01294 632.28864 544.85925 2 1.7786797e-06 339.72586 340.29773 459.0612 485.58215 2 1.5363289e-06 586.4052 410.02252 659.3486 509.18146 3 0.0023854575 330.97406 338.56396 660.9057 538.274 4 9.3809085e-06 331.25238 339.99207 661.3001 537.04193 5 0.015038515 330.2392 338.13898 660.73047 538.4702 5 6.119991e-06 117.03473 319.40854 607.2285 492.13077 5 4.061476e-06 287.69226 174.70224 662.3893 407.25516 5 3.5337177e-06 227.85127 497.20145 738.4344 625.03326 5 2.3721639e-06 337.69965 336.9502 508.35364 477.06348 5 2.2391962e-06 335.67975 76.25609 786.1358 536.2899 5 1.9043468e-06 345.33395 287.5272 875.1793 449.5582 6 0.20645863 329.80252 337.69775 660.58704 538.34454 6 1.1398308e-05 326.01965 440.98572 770.13965 584.73376 6 9.873374e-06 117.03473 319.40854 607.2285 492.13077 6 5.2102496e-06 337.69965 336.9502 508.35364 477.06348 6 4.2548463e-06 217.24437 8.670563 669.43317 555.48425 6 3.6821045e-06 89.561584 336.18146 661.1358 671.90454 6 2.5479167e-06 279.0606 353.50513 483.22034 634.7056 6 1.6159937e-06 452.2021 388.9429 586.9578 420.31143 7 0.011294161 329.70526 337.53967 660.73035 538.49133 7 9.798129e-06 351.79047 370.89145 577.8691 462.52866 7 6.8127156e-06 344.24448 336.1246 500.79263 476.0411 7 5.363151e-06 408.0105 400.251 573.11536 434.19284 7 4.7527615e-06 216.8084 304.05002 547.859 519.56586 7 3.2912774e-06 452.2021 388.9429 586.9578 420.31143 7 2.8936138e-06 256.10178 192.9457 662.7715 542.494 7 2.8022723e-06 345.33395 287.5272 875.1793 449.5582 7 2.7804122e-06 346.4419 400.61234 523.6478 454.90353 7 2.6178136e-06 492.22577 386.94547 574.0705 467.058 7 2.093715e-06 446.0987 351.82187 662.1337 490.2266 7 2.02245e-06 483.19342 372.52948 602.3172 486.41748 7 1.9948218e-06 406.2784 410.22427 554.7914 448.34854 7 1.9134986e-06 326.01965 440.98572 770.13965 584.73376 7 1.8506036e-06 353.8379 266.73907 660.3394 474.8211 7 1.5719579e-06 274.87103 225.27982 746.18353 396.33224 7 1.4953542e-06 137.47585 313.89923 634.49677 446.93475 8 6.657667e-05 329.9481 337.92734 660.62756 538.4689 9 0.00032266558 330.26425 338.25256 660.38464 538.4252 '"
      ]
     },
     "execution_count": 7,
     "metadata": {},
     "output_type": "execute_result"
    }
   ],
   "source": [
    "submission['PredictionString'][487]"
   ]
  }
 ],
 "metadata": {
  "interpreter": {
   "hash": "b94c6de4bce9a87a354a5fa9998691adc0532adddb9d4140f5ba941d00b01fae"
  },
  "kernelspec": {
   "display_name": "detection",
   "language": "python",
   "name": "python3"
  },
  "language_info": {
   "codemirror_mode": {
    "name": "ipython",
    "version": 3
   },
   "file_extension": ".py",
   "mimetype": "text/x-python",
   "name": "python",
   "nbconvert_exporter": "python",
   "pygments_lexer": "ipython3",
   "version": "3.7.11"
  }
 },
 "nbformat": 4,
 "nbformat_minor": 5
}
