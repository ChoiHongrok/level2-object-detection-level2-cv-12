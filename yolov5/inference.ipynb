{
 "cells": [
  {
   "cell_type": "code",
   "execution_count": 3,
   "metadata": {},
   "outputs": [],
   "source": [
    "import os\n",
    "import pandas as pd\n",
    "import argparse\n",
    "import os.path \n"
   ]
  },
  {
   "cell_type": "code",
   "execution_count": 1,
   "metadata": {},
   "outputs": [],
   "source": [
    "string_pred=[]\n",
    "name=[]\n",
    "for idx in range(4871):\n",
    "    word =  \"%04d\" % (idx)\n",
    "    \n",
    "    path = f\"/opt/ml/detection/baseline/yolor/runs/test/yolor_fold18/labels/{word}.txt\"\n",
    "\n",
    "    if(os.path.isfile(path) == False):\n",
    "        string_pred.append(\" \")\n",
    "        name.append(f'test/{word}.jpg')\n",
    "        continue\n",
    "\n",
    "    f = open(path,\"rt\")\n",
    "    input_word = ''\n",
    "    line = f.readlines()\n",
    "    for i in line:\n",
    "        arr = i.split()\n",
    "        # print(arr, idx)\n",
    "        xc, yc, w, h = float(arr[1]) * 1024, float(arr[2]) * 1024, float(arr[3]) * 1024, float(arr[4]) * 1024   \n",
    "        xmin = xc - w / 2\n",
    "        ymin = yc - h / 2\n",
    "        w += xmin\n",
    "        h += ymin\n",
    "        arr[1] = arr[5]\n",
    "        arr[2], arr[3], arr[4], arr[5] = str(round(xmin,3)), str(round(ymin,3)), str(round(w, 3)), str(round(h,3))\n",
    "        temp = ' '.join(arr)\n",
    "        input_word = temp + ' ' +input_word\n",
    "\n",
    "    string_pred.append(input_word)    \n",
    "    name.append(f'test/{word}.jpg')"
   ]
  },
  {
   "cell_type": "code",
   "execution_count": 4,
   "metadata": {},
   "outputs": [],
   "source": [
    "submission = pd.DataFrame()\n",
    "submission['PredictionString'] = string_pred\n",
    "submission['image_id'] = name\n",
    "def zz(x):\n",
    "    pred = \"\"\n",
    "    \n",
    "    for i in x.split():\n",
    "        if float(i) < 0:\n",
    "            pred += \"0.0 \"\n",
    "        elif float(i) > 1024:\n",
    "            pred += \"1024.0 \"\n",
    "        else:\n",
    "            pred += i + \" \"\n",
    "    return pred\n",
    "submission['PredictionString'] = submission['PredictionString'].map(zz)\n",
    "submission.to_csv('/opt/ml/Pstage/level2-object-detection-level2-cv-12/baseline/mmdetection/work_dirs/yolo/yolorfold0.csv',index=False)"
   ]
  }
 ],
 "metadata": {
  "kernelspec": {
   "display_name": "detection",
   "language": "python",
   "name": "detection"
  },
  "language_info": {
   "codemirror_mode": {
    "name": "ipython",
    "version": 3
   },
   "file_extension": ".py",
   "mimetype": "text/x-python",
   "name": "python",
   "nbconvert_exporter": "python",
   "pygments_lexer": "ipython3",
   "version": "3.7.11"
  },
  "orig_nbformat": 4
 },
 "nbformat": 4,
 "nbformat_minor": 2
}
