{
 "cells": [
  {
   "cell_type": "code",
   "execution_count": null,
   "metadata": {},
   "outputs": [],
   "source": [
    "import random\n",
    "from PIL import Image, ImageDraw, ImageFont\n",
    "\n",
    "test_json = COCO('/opt/ml/detection/dataset/test.json') # test.jon 경로\n",
    "cate_info = test_json.dataset['categories']\n",
    "\n",
    "# 카테고리 당 색깔 설정\n",
    "cate_color = {0: 'red', 1:'orange', 2:'yellow', 3:'green', 4:'blue', 5:'pink', 6:'brown', 7:'purple', 8:'navy', 9:'white'}\n",
    "# 카테고리 별 이름\n",
    "cate_name = []\n",
    "for j in range(10):\n",
    "    cate_name.append(cate_info[j]['name'])\n",
    "# print(cate_name)\n",
    "\n",
    "# 폰트\n",
    "font = ImageFont.truetype(\"/usr/share/fonts/dejavu/DejaVuSans.ttf\", 40)\n",
    "\n",
    "submission_path = '/opt/ml/detection/baseline/faster_rcnn/faster_rcnn_torchvision_submission.csv' # submission.csv 경로\n",
    "submission = pd.read_csv(submission_path)\n",
    "# submission['PredictionString'].info"
   ]
  },
  {
   "cell_type": "code",
   "execution_count": null,
   "metadata": {},
   "outputs": [],
   "source": [
    "data_dir = '/opt/ml/detection/dataset'\n",
    "for _ in range(10):\n",
    "    ran_num = random.randint(0, 4870)\n",
    "    test_image = submission.iloc[ran_num]['image_id']\n",
    "    infos = submission.iloc[ran_num]['PredictionString']\n",
    "    if type(infos) == str:\n",
    "        bbox_info = infos.split()\n",
    "    else:\n",
    "        continue\n",
    "    # print(bbox_info)\n",
    "\n",
    "    bboxes = []\n",
    "    for i, v in enumerate(bbox_info):\n",
    "        if i % 6 == 0:\n",
    "            bboxes.append([])\n",
    "        bboxes[-1].append(float(v))\n",
    "\n",
    "    img = Image.open(os.path.join(data_dir, test_image))\n",
    "    draw = ImageDraw.Draw(img)\n",
    "    # bboxes의 리스트들은 label, score, xmin, ymin, xmax, ymax 순서\n",
    "    for idx in range(len(bboxes)):\n",
    "        [xmin, ymin, xmax, ymax] = bboxes[idx][2:]\n",
    "        draw.rectangle((xmin, ymin, xmax, ymax), outline=cate_color[int(bboxes[idx][0])], width = 3)\n",
    "        # text 위치\n",
    "        text_pos = (xmin+5, ymin)\n",
    "        draw.text(text_pos, cate_name[int(bboxes[idx][0])], fill=cate_color[int(bboxes[idx][0])], font=font)\n",
    "\n",
    "    img_small = img.resize((400, 400))\n",
    "    img_small.show()"
   ]
  }
 ],
 "metadata": {
  "language_info": {
   "name": "python"
  },
  "orig_nbformat": 4
 },
 "nbformat": 4,
 "nbformat_minor": 2
}
