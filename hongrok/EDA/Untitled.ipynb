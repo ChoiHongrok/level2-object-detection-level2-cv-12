{
 "cells": [
  {
   "cell_type": "code",
   "execution_count": 2,
   "id": "03488514-baa4-42b4-afbb-be152a352c61",
   "metadata": {},
   "outputs": [],
   "source": [
    "import json\n",
    "\n",
    "PATH = '../../dataset/'\n",
    "with open(PATH + 'train.json', mode='r') as j:\n",
    "    json = json.load(j)"
   ]
  },
  {
   "cell_type": "code",
   "execution_count": 4,
   "id": "82aab80d-cb82-4126-87fd-d6e9a90ecd16",
   "metadata": {},
   "outputs": [
    {
     "data": {
      "text/plain": [
       "dict_keys(['info', 'licenses', 'images', 'categories', 'annotations'])"
      ]
     },
     "execution_count": 4,
     "metadata": {},
     "output_type": "execute_result"
    }
   ],
   "source": [
    "json.keys()"
   ]
  },
  {
   "cell_type": "code",
   "execution_count": 6,
   "id": "7bf04cbe-89ed-4241-9a31-c67bc3139e86",
   "metadata": {},
   "outputs": [
    {
     "data": {
      "text/plain": [
       "{'year': 2021,\n",
       " 'version': '1.0',\n",
       " 'description': 'Recycle Trash',\n",
       " 'contributor': 'Upstage',\n",
       " 'url': None,\n",
       " 'date_created': '2021-02-02 01:10:00'}"
      ]
     },
     "execution_count": 6,
     "metadata": {},
     "output_type": "execute_result"
    }
   ],
   "source": [
    "json['info']"
   ]
  },
  {
   "cell_type": "code",
   "execution_count": 11,
   "id": "306bb056-8bc6-4c8b-96e9-3c4c4cfd19ae",
   "metadata": {},
   "outputs": [
    {
     "data": {
      "text/plain": [
       "[{'id': 0, 'name': 'General trash', 'supercategory': 'General trash'},\n",
       " {'id': 1, 'name': 'Paper', 'supercategory': 'Paper'},\n",
       " {'id': 2, 'name': 'Paper pack', 'supercategory': 'Paper pack'},\n",
       " {'id': 3, 'name': 'Metal', 'supercategory': 'Metal'},\n",
       " {'id': 4, 'name': 'Glass', 'supercategory': 'Glass'},\n",
       " {'id': 5, 'name': 'Plastic', 'supercategory': 'Plastic'},\n",
       " {'id': 6, 'name': 'Styrofoam', 'supercategory': 'Styrofoam'},\n",
       " {'id': 7, 'name': 'Plastic bag', 'supercategory': 'Plastic bag'},\n",
       " {'id': 8, 'name': 'Battery', 'supercategory': 'Battery'},\n",
       " {'id': 9, 'name': 'Clothing', 'supercategory': 'Clothing'}]"
      ]
     },
     "execution_count": 11,
     "metadata": {},
     "output_type": "execute_result"
    }
   ],
   "source": [
    "json['categories']"
   ]
  },
  {
   "cell_type": "code",
   "execution_count": 9,
   "id": "9cabca79-a54f-4ee1-bba2-efeac701554a",
   "metadata": {},
   "outputs": [
    {
     "data": {
      "text/plain": [
       "[{'id': 0,\n",
       "  'name': 'CC BY 4.0',\n",
       "  'url': 'https://creativecommons.org/licenses/by/4.0/deed.ast'}]"
      ]
     },
     "execution_count": 9,
     "metadata": {},
     "output_type": "execute_result"
    }
   ],
   "source": [
    "json['licenses']"
   ]
  },
  {
   "cell_type": "code",
   "execution_count": 17,
   "id": "d990f4c9-3dbc-4abc-be93-ace507bed6a3",
   "metadata": {
    "tags": []
   },
   "outputs": [],
   "source": [
    "import pandas as pd\n",
    "imgs = pd.DataFrame(json['images'])\n",
    "annos = pd.DataFrame(json['annotations'])"
   ]
  },
  {
   "cell_type": "code",
   "execution_count": 23,
   "id": "f11a477b-c61a-4244-88af-f224f9a43ab3",
   "metadata": {
    "tags": []
   },
   "outputs": [
    {
     "ename": "NameError",
     "evalue": "name 'y_' is not defined",
     "output_type": "error",
     "traceback": [
      "\u001b[0;31m---------------------------------------------------------------------------\u001b[0m",
      "\u001b[0;31mNameError\u001b[0m                                 Traceback (most recent call last)",
      "\u001b[0;32m/tmp/ipykernel_26574/2457175507.py\u001b[0m in \u001b[0;36m<module>\u001b[0;34m\u001b[0m\n\u001b[1;32m      1\u001b[0m \u001b[0;32mfrom\u001b[0m \u001b[0msklearn\u001b[0m\u001b[0;34m.\u001b[0m\u001b[0mmodel_selection\u001b[0m \u001b[0;32mimport\u001b[0m \u001b[0mtrain_test_split\u001b[0m\u001b[0;34m\u001b[0m\u001b[0;34m\u001b[0m\u001b[0m\n\u001b[1;32m      2\u001b[0m \u001b[0;34m\u001b[0m\u001b[0m\n\u001b[0;32m----> 3\u001b[0;31m \u001b[0mtrain_test_split\u001b[0m\u001b[0;34m(\u001b[0m\u001b[0mimgs\u001b[0m\u001b[0;34m,\u001b[0m \u001b[0my_\u001b[0m\u001b[0;34m)\u001b[0m\u001b[0;34m\u001b[0m\u001b[0;34m\u001b[0m\u001b[0m\n\u001b[0m",
      "\u001b[0;31mNameError\u001b[0m: name 'y_' is not defined"
     ]
    }
   ],
   "source": [
    "from sklearn.model_selection import train_test_split\n",
    "\n"
   ]
  },
  {
   "cell_type": "code",
   "execution_count": 28,
   "id": "ff64ae14-d4d8-42d9-8855-dfd675a0ebad",
   "metadata": {},
   "outputs": [],
   "source": [
    "train = imgs[::10].copy()\n",
    "test = imgs[1::10].copy()"
   ]
  },
  {
   "cell_type": "code",
   "execution_count": 34,
   "id": "376f5eeb-ad0e-4a80-94f1-61dd28a7675c",
   "metadata": {},
   "outputs": [
    {
     "data": {
      "text/plain": [
       "{'width': 1024,\n",
       " 'height': 1024,\n",
       " 'file_name': 'train/0000.jpg',\n",
       " 'license': 0,\n",
       " 'flickr_url': None,\n",
       " 'coco_url': None,\n",
       " 'date_captured': '2020-12-26 14:44:23',\n",
       " 'id': 0}"
      ]
     },
     "execution_count": 34,
     "metadata": {},
     "output_type": "execute_result"
    }
   ],
   "source": [
    "json['images'][0]#.keys()"
   ]
  }
 ],
 "metadata": {
  "kernelspec": {
   "display_name": "detection",
   "language": "python",
   "name": "detection"
  },
  "language_info": {
   "codemirror_mode": {
    "name": "ipython",
    "version": 3
   },
   "file_extension": ".py",
   "mimetype": "text/x-python",
   "name": "python",
   "nbconvert_exporter": "python",
   "pygments_lexer": "ipython3",
   "version": "3.7.11"
  }
 },
 "nbformat": 4,
 "nbformat_minor": 5
}
