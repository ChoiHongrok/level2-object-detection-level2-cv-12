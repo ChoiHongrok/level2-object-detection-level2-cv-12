{
 "cells": [
  {
   "cell_type": "code",
   "execution_count": 15,
   "metadata": {},
   "outputs": [],
   "source": [
    "import json\n",
    "import pandas as pd\n",
    "\n",
    "root = \"../dataset/train.json\"\n",
    "\n",
    "categories = ['image_id','width','height','source','x','y','w','h']\n",
    "df = pd.DataFrame(columns=categories)\n",
    "\n",
    "images = list()\n",
    "annotations = list()\n",
    "labels = list()\n",
    "\n",
    "data = dict()\n",
    "image_id = 0\n",
    "category_id = 0\n",
    "width = 0\n",
    "height = 0\n",
    "x,y,w,h = 0,0,0,0\n",
    "bigData = list()\n",
    "with open(root,'r') as j:\n",
    "    json_data = json.load(j)\n",
    "    images = json_data['images']\n",
    "    annotations = json_data['annotations']\n",
    "    labels = json_data['categories']\n",
    "\n",
    "df2 = pd.DataFrame(annotations)\n",
    "\n",
    "for i in range(len(annotations)):\n",
    "    image_id = images[annotations[i]['image_id']]['file_name']\n",
    "    width = images[annotations[i]['image_id']]['width']\n",
    "    height = images[annotations[i]['image_id']]['height']\n",
    "    category_id = labels[annotations[i]['category_id']]['name']\n",
    "    x,y,w,h = annotations[i]['bbox']\n",
    "    data = {\n",
    "            'image_id':image_id,\n",
    "            'width':width,\n",
    "            'height':height,\n",
    "            'source':category_id,\n",
    "            'x':x,\n",
    "            'y':y,\n",
    "            'w':w,\n",
    "            'h':h\n",
    "        }\n",
    "    bigData.append(data)\n",
    "    \n",
    "\n",
    "# df.append(data,ignore_index=True)\n",
    "# len(image_ids),len(category_ids),len(bboxes)"
   ]
  },
  {
   "cell_type": "code",
   "execution_count": 18,
   "metadata": {},
   "outputs": [
    {
     "data": {
      "text/html": [
       "<div>\n",
       "<style scoped>\n",
       "    .dataframe tbody tr th:only-of-type {\n",
       "        vertical-align: middle;\n",
       "    }\n",
       "\n",
       "    .dataframe tbody tr th {\n",
       "        vertical-align: top;\n",
       "    }\n",
       "\n",
       "    .dataframe thead th {\n",
       "        text-align: right;\n",
       "    }\n",
       "</style>\n",
       "<table border=\"1\" class=\"dataframe\">\n",
       "  <thead>\n",
       "    <tr style=\"text-align: right;\">\n",
       "      <th></th>\n",
       "      <th>image_id</th>\n",
       "      <th>width</th>\n",
       "      <th>height</th>\n",
       "      <th>source</th>\n",
       "      <th>x</th>\n",
       "      <th>y</th>\n",
       "      <th>w</th>\n",
       "      <th>h</th>\n",
       "    </tr>\n",
       "  </thead>\n",
       "  <tbody>\n",
       "    <tr>\n",
       "      <th>0</th>\n",
       "      <td>train/0000.jpg</td>\n",
       "      <td>1024</td>\n",
       "      <td>1024</td>\n",
       "      <td>General trash</td>\n",
       "      <td>197.6</td>\n",
       "      <td>193.7</td>\n",
       "      <td>547.8</td>\n",
       "      <td>469.7</td>\n",
       "    </tr>\n",
       "    <tr>\n",
       "      <th>1</th>\n",
       "      <td>train/0001.jpg</td>\n",
       "      <td>1024</td>\n",
       "      <td>1024</td>\n",
       "      <td>Metal</td>\n",
       "      <td>0.0</td>\n",
       "      <td>407.4</td>\n",
       "      <td>57.6</td>\n",
       "      <td>180.6</td>\n",
       "    </tr>\n",
       "    <tr>\n",
       "      <th>2</th>\n",
       "      <td>train/0001.jpg</td>\n",
       "      <td>1024</td>\n",
       "      <td>1024</td>\n",
       "      <td>Plastic bag</td>\n",
       "      <td>0.0</td>\n",
       "      <td>455.6</td>\n",
       "      <td>144.6</td>\n",
       "      <td>181.6</td>\n",
       "    </tr>\n",
       "    <tr>\n",
       "      <th>3</th>\n",
       "      <td>train/0001.jpg</td>\n",
       "      <td>1024</td>\n",
       "      <td>1024</td>\n",
       "      <td>Glass</td>\n",
       "      <td>722.3</td>\n",
       "      <td>313.4</td>\n",
       "      <td>274.3</td>\n",
       "      <td>251.9</td>\n",
       "    </tr>\n",
       "    <tr>\n",
       "      <th>4</th>\n",
       "      <td>train/0001.jpg</td>\n",
       "      <td>1024</td>\n",
       "      <td>1024</td>\n",
       "      <td>Plastic</td>\n",
       "      <td>353.2</td>\n",
       "      <td>671.0</td>\n",
       "      <td>233.7</td>\n",
       "      <td>103.4</td>\n",
       "    </tr>\n",
       "  </tbody>\n",
       "</table>\n",
       "</div>"
      ],
      "text/plain": [
       "         image_id width height         source      x      y      w      h\n",
       "0  train/0000.jpg  1024   1024  General trash  197.6  193.7  547.8  469.7\n",
       "1  train/0001.jpg  1024   1024          Metal    0.0  407.4   57.6  180.6\n",
       "2  train/0001.jpg  1024   1024    Plastic bag    0.0  455.6  144.6  181.6\n",
       "3  train/0001.jpg  1024   1024          Glass  722.3  313.4  274.3  251.9\n",
       "4  train/0001.jpg  1024   1024        Plastic  353.2  671.0  233.7  103.4"
      ]
     },
     "execution_count": 18,
     "metadata": {},
     "output_type": "execute_result"
    }
   ],
   "source": [
    "df = df.append(bigData,ignore_index=True)\n",
    "df.head()"
   ]
  },
  {
   "cell_type": "code",
   "execution_count": 114,
   "metadata": {},
   "outputs": [
    {
     "data": {
      "text/plain": [
       "Paper            12704\n",
       "Plastic bag      10357\n",
       "General trash     7933\n",
       "Plastic           5887\n",
       "Styrofoam         2526\n",
       "Glass             1965\n",
       "Metal             1873\n",
       "Paper pack        1794\n",
       "Clothing           936\n",
       "Battery            318\n",
       "Name: source, dtype: int64"
      ]
     },
     "execution_count": 114,
     "metadata": {},
     "output_type": "execute_result"
    }
   ],
   "source": [
    "data = df['source'].value_counts()\n",
    "data"
   ]
  },
  {
   "cell_type": "code",
   "execution_count": 150,
   "metadata": {},
   "outputs": [
    {
     "data": {
      "image/png": "[encoded data removed]",
      "text/plain": [
       "<Figure size 864x504 with 1 Axes>"
      ]
     },
     "metadata": {
      "needs_background": "light"
     },
     "output_type": "display_data"
    }
   ],
   "source": [
    "import matplotlib.pyplot as plt\n",
    "import seaborn as sns\n",
    "import numpy as np\n",
    "fig = plt.figure(figsize=(12,7))\n",
    "x = data.index\n",
    "y = data\n",
    "plt.bar(x,y)\n",
    "plt.show()"
   ]
  },
  {
   "cell_type": "code",
   "execution_count": 12,
   "metadata": {},
   "outputs": [
    {
     "data": {
      "text/plain": [
       "array([1, 1, 1, 1, 1, 1, 1, 1, 1, 1, 1, 1, 1, 1, 1, 1, 1, 1, 1, 1, 1, 1,\n",
       "       1, 1, 1, 1, 1, 1, 1, 1, 1, 1, 1, 1, 1, 1, 1, 1, 1, 1])"
      ]
     },
     "execution_count": 12,
     "metadata": {},
     "output_type": "execute_result"
    }
   ],
   "source": [
    "import numpy as np\n",
    "a = np.ones((10,4),dtype=np.int64)\n",
    "r = np.concatenate(a,axis=0)\n",
    "r"
   ]
  },
  {
   "cell_type": "code",
   "execution_count": null,
   "metadata": {},
   "outputs": [],
   "source": []
  }
 ],
 "metadata": {
  "kernelspec": {
   "display_name": "detection",
   "language": "python",
   "name": "detection"
  },
  "language_info": {
   "codemirror_mode": {
    "name": "ipython",
    "version": 3
   },
   "file_extension": ".py",
   "mimetype": "text/x-python",
   "name": "python",
   "nbconvert_exporter": "python",
   "pygments_lexer": "ipython3",
   "version": "3.7.11"
  },
  "orig_nbformat": 4
 },
 "nbformat": 4,
 "nbformat_minor": 2
}
